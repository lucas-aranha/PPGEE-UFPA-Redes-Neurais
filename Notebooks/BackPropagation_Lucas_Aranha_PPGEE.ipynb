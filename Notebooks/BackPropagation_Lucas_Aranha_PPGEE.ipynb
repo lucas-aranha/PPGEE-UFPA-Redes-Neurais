{
  "nbformat": 4,
  "nbformat_minor": 0,
  "metadata": {
    "colab": {
      "provenance": []
    },
    "kernelspec": {
      "name": "python3",
      "display_name": "Python 3"
    },
    "language_info": {
      "name": "python"
    }
  },
  "cells": [
    {
      "cell_type": "markdown",
      "source": [
        "## **IMPORTAÇÃO DAS BIBLIOTECAS**"
      ],
      "metadata": {
        "id": "g8qxGw3RNWm6"
      }
    },
    {
      "cell_type": "code",
      "source": [
        "import numpy as np\n",
        "import pandas as pd\n",
        "import matplotlib.pyplot as plt\n",
        "from sklearn.model_selection import train_test_split #apenas para a validação cruzada"
      ],
      "metadata": {
        "id": "lgRa4iRdIZ15"
      },
      "execution_count": null,
      "outputs": []
    },
    {
      "cell_type": "markdown",
      "source": [
        "## **DEFINIÇÃO DA CLASSE DE FUNÇÕES (ROTINAS) DO ALGORITMO**\n",
        "\n",
        "Nessa seção são definidos:\n",
        "\n",
        "\n",
        "1.   a inicialização dos pesos sinápicos e bias;\n",
        "2.   as funções de ativação e suas derivadas;\n",
        "3.   o fluxo direto de propagação (para frente);\n",
        "4.   o fluxo de retropropagação (para trás);\n",
        "5.   a validação e critério de parada;\n",
        "6.   o treinamento da rede;\n",
        "7.   a atualização dos pesos sinápicos;\n",
        "8.   a métrica de avaliação;\n",
        "9.   a função de visualização dos pesos.\n",
        "\n"
      ],
      "metadata": {
        "id": "fZ_VVIPePHP9"
      }
    },
    {
      "cell_type": "code",
      "execution_count": null,
      "metadata": {
        "id": "ry2_EkW6Dwlb"
      },
      "outputs": [],
      "source": [
        "class NeuralNetwork:\n",
        "    def __init__(self, input_size, hidden_size, output_size, activation):\n",
        "        self.input_size = input_size\n",
        "        self.hidden_size = hidden_size\n",
        "        self.output_size = output_size\n",
        "        self.activation = activation\n",
        "        self.weights1 = np.random.randn(self.input_size, self.hidden_size)\n",
        "        self.weights2 = np.random.randn(self.hidden_size, self.output_size)\n",
        "\n",
        "    def activation_func(self, x):\n",
        "        if self.activation == 'sigmoid':\n",
        "            return 1 / (1 + np.exp(-x))\n",
        "        elif self.activation == 'relu':\n",
        "            return np.maximum(0, x)\n",
        "        elif self.activation == 'tanh':\n",
        "            return np.tanh(x)\n",
        "        elif self.activation == 'linear':\n",
        "            return x\n",
        "\n",
        "    def activation_func_deriv(self, x):\n",
        "        if self.activation == 'sigmoid':\n",
        "            return x * (1 - x)\n",
        "        elif self.activation == 'relu':\n",
        "            return np.where(x > 0, 1, 0)\n",
        "        elif self.activation == 'tanh':\n",
        "            return 1 - x**2\n",
        "        elif self.activation == 'linear':\n",
        "            return np.ones_like(x)\n",
        "\n",
        "    def forward_pass(self, X):\n",
        "        hidden_input = np.dot(X, self.weights1)\n",
        "        hidden_output = self.activation_func(hidden_input)\n",
        "        output_input = np.dot(hidden_output, self.weights2)\n",
        "        output_output = self.activation_func(output_input)\n",
        "        return hidden_output, output_output\n",
        "\n",
        "    def backward_pass(self, X, y, hidden_output, output_output, learning_rate):\n",
        "        output_error = y - output_output\n",
        "        output_delta = output_error * self.activation_func_deriv(output_output)\n",
        "\n",
        "        hidden_error = output_delta.dot(self.weights2.T)\n",
        "        hidden_delta = hidden_error * self.activation_func_deriv(hidden_output)\n",
        "\n",
        "        self.weights2 += learning_rate * hidden_output.T.dot(output_delta)\n",
        "        self.weights1 += learning_rate * X.T.dot(hidden_delta)\n",
        "\n",
        "    def train(self, X, y, epochs, learning_rate, early_stopping=False,\n",
        "              patience=5, validation_data=None):\n",
        "        mse_train = []\n",
        "        mse_val = []\n",
        "\n",
        "        X_train, X_val, y_train, y_val = train_test_split(X, y, test_size=0.2,\n",
        "                                                          random_state=42)\n",
        "\n",
        "        for epoch in range(epochs):\n",
        "            hidden_output, output_output = self.forward_pass(X_train)\n",
        "            self.backward_pass(X_train, y_train, hidden_output, output_output,\n",
        "                               learning_rate)\n",
        "\n",
        "            mse_train.append(np.mean((y_train - output_output)**2))\n",
        "\n",
        "            if validation_data is not None:\n",
        "                X_val, y_val = validation_data\n",
        "                _, val_output = self.forward_pass(X_val)\n",
        "                mse_val.append(np.mean((y_val - val_output)**2))\n",
        "\n",
        "                if early_stopping and epoch > patience:\n",
        "                    if mse_val[-1] >= np.mean(mse_val[-patience-1:-1]):\n",
        "                        print(\"Stopping early...\")\n",
        "                        break\n",
        "\n",
        "        return mse_train, mse_val\n",
        "\n",
        "    def predict(self, X):\n",
        "        _, output = self.forward_pass(X)\n",
        "        return output\n",
        "\n",
        "    def get_weights(self):\n",
        "        return self.weights1, self.weights2\n",
        "\n",
        "    def print_weights(self):\n",
        "        print(\"Weights 1:\")\n",
        "        print(self.weights1)\n",
        "        print(\"Weights 2:\")\n",
        "        print(self.weights2)\n",
        "\n",
        "    def calculate_accuracy(self, X, y):\n",
        "        predictions = self.predict(X)\n",
        "        rounded_predictions = np.round(predictions)\n",
        "        accuracy = np.mean(rounded_predictions == y)\n",
        "        return accuracy"
      ]
    },
    {
      "cell_type": "markdown",
      "source": [
        "## **CARREGAMENTO DO DATASET E DEFINIÇÃO DAS FEATURES**"
      ],
      "metadata": {
        "id": "QYC-f5x3flPA"
      }
    },
    {
      "cell_type": "code",
      "source": [
        "df = pd.read_excel('mamografia_rna_ppgee.xlsx')\n",
        "\n",
        "X = df.drop('CLASSE', axis=1).values\n",
        "y = df['CLASSE'].values.reshape(-1, 1)"
      ],
      "metadata": {
        "id": "QafNDAvJEcyP"
      },
      "execution_count": null,
      "outputs": []
    },
    {
      "cell_type": "markdown",
      "source": [
        "## **CROSS VALIDATION**\n",
        "\n",
        "Divisão em dados de treino e teste."
      ],
      "metadata": {
        "id": "XNPRbK41gKFx"
      }
    },
    {
      "cell_type": "code",
      "source": [
        "X_train, X_test, y_train, y_test = train_test_split(X, y, test_size=0.2,\n",
        "                                                    random_state=42)"
      ],
      "metadata": {
        "id": "LicB4c3af52W"
      },
      "execution_count": null,
      "outputs": []
    },
    {
      "cell_type": "markdown",
      "source": [
        "## **NORMALIZAÇÃO DOS DADOS**"
      ],
      "metadata": {
        "id": "eJ0EHnBhgigk"
      }
    },
    {
      "cell_type": "code",
      "source": [
        "X_train = (X_train - X_train.mean()) / X_train.std()\n",
        "X_test = (X_test - X_test.mean()) / X_test.std()"
      ],
      "metadata": {
        "id": "-UqOI201gU17"
      },
      "execution_count": null,
      "outputs": []
    },
    {
      "cell_type": "markdown",
      "source": [
        "## **DEFINIÇÃO DA ARQUITETURA DA REDE**\n",
        "\n",
        "São definidos: tamanho da camada de entrada, número de neurômios nas camadas oculta e de saída, função de ativação."
      ],
      "metadata": {
        "id": "VI6PXvw_hLed"
      }
    },
    {
      "cell_type": "code",
      "source": [
        "input_size = X_train.shape[1]\n",
        "hidden_size = 5\n",
        "output_size = 1\n",
        "activation = 'sigmoid'"
      ],
      "metadata": {
        "id": "_RU-IePmEiPD"
      },
      "execution_count": null,
      "outputs": []
    },
    {
      "cell_type": "markdown",
      "source": [
        "## **DEFINIÇÃO DA REDE NEURAL (OBJETO)**"
      ],
      "metadata": {
        "id": "jMi_YxSwh-sx"
      }
    },
    {
      "cell_type": "code",
      "source": [
        "net = NeuralNetwork(input_size, hidden_size, output_size, activation)"
      ],
      "metadata": {
        "id": "IlWoDFyOh1cP"
      },
      "execution_count": null,
      "outputs": []
    },
    {
      "cell_type": "markdown",
      "source": [
        "## **VISUALIZAÇÃO DOS PESOS SINÁPTICOS ANTES DO TREINAMENTO**"
      ],
      "metadata": {
        "id": "egEF0F8zidzO"
      }
    },
    {
      "cell_type": "code",
      "source": [
        "print(\"Initial Weights:\")\n",
        "net.print_weights()"
      ],
      "metadata": {
        "colab": {
          "base_uri": "https://localhost:8080/"
        },
        "id": "vj0zHzdDicp1",
        "outputId": "7ae113e1-ab5c-41cc-f28f-7b08800b7963"
      },
      "execution_count": null,
      "outputs": [
        {
          "output_type": "stream",
          "name": "stdout",
          "text": [
            "Initial Weights:\n",
            "Weights 1:\n",
            "[[-0.44569527  1.21155378 -0.57136827 -0.11058325 -2.00073513]\n",
            " [ 1.40603142 -0.93308505  0.95037206  0.99893531 -1.16611721]\n",
            " [ 0.10671552 -0.89129365 -0.72585428 -1.44626505  0.73344563]\n",
            " [-1.57280631  1.71220388 -0.30124785  0.11178706 -0.38404504]\n",
            " [ 2.43029094  0.35174177  0.33956134 -0.37884403 -0.17592328]]\n",
            "Weights 2:\n",
            "[[ 0.18474479]\n",
            " [ 0.48700824]\n",
            " [ 0.33473763]\n",
            " [ 0.83574883]\n",
            " [-1.42916663]]\n"
          ]
        }
      ]
    },
    {
      "cell_type": "markdown",
      "source": [
        "## **TREINAMENTO DA REDE NEURAL**\n",
        "\n",
        "Definição do número de épocas e taxa de aprendizado."
      ],
      "metadata": {
        "id": "MKFNQgrZiqom"
      }
    },
    {
      "cell_type": "code",
      "source": [
        "epochs = 5000\n",
        "learning_rate = 0.005\n",
        "mse_train, mse_val = net.train(X_train, y_train, epochs, learning_rate,\n",
        "                              early_stopping=True, patience=10,\n",
        "                              validation_data=(X_test, y_test))"
      ],
      "metadata": {
        "colab": {
          "base_uri": "https://localhost:8080/"
        },
        "id": "M_Cy4WaKirfl",
        "outputId": "d41a37d7-9785-4834-be2c-e11203edd5e6"
      },
      "execution_count": null,
      "outputs": [
        {
          "output_type": "stream",
          "name": "stdout",
          "text": [
            "Stopping early...\n"
          ]
        }
      ]
    },
    {
      "cell_type": "markdown",
      "source": [
        "## **VISUALIZAÇÃO DOS PESOS SINÁPTICOS APÓS O TREINAMENTO**"
      ],
      "metadata": {
        "id": "WNOqPSpDjBrz"
      }
    },
    {
      "cell_type": "code",
      "source": [
        "print(\"\\nFinal Weights:\")\n",
        "net.print_weights()"
      ],
      "metadata": {
        "colab": {
          "base_uri": "https://localhost:8080/"
        },
        "id": "tcW2_IbXI23J",
        "outputId": "cdc674fb-1b0b-474e-a42d-b92a29ce4d2b"
      },
      "execution_count": null,
      "outputs": [
        {
          "output_type": "stream",
          "name": "stdout",
          "text": [
            "\n",
            "Final Weights:\n",
            "Weights 1:\n",
            "[[-0.8077239   0.39451796 -0.94962462 -0.47727013 -1.7514928 ]\n",
            " [ 2.79791673 -0.90412003  2.46189592  2.68289129 -1.05580979]\n",
            " [-0.28039157 -1.18266072 -1.11097308 -1.79464798 -1.6910742 ]\n",
            " [-1.90317172  2.65186153 -0.59876445 -0.12118177 -7.1512731 ]\n",
            " [ 1.93118153 -2.56850617 -0.20062277 -0.92959607  4.5882178 ]]\n",
            "Weights 2:\n",
            "[[ 0.9296091 ]\n",
            " [ 5.95304633]\n",
            " [ 1.54887405]\n",
            " [ 2.52285229]\n",
            " [-9.96722086]]\n"
          ]
        }
      ]
    },
    {
      "cell_type": "markdown",
      "source": [
        "## **GRÁFICO DE EVOLUÇÃO DO ERRO MÉDIO QUADRÁTICO AO LONGO DAS ÉPOCAS**"
      ],
      "metadata": {
        "id": "l7y8ZffUjSgq"
      }
    },
    {
      "cell_type": "code",
      "source": [
        "plt.plot(range(len(mse_train)), mse_train, label='Training Set')\n",
        "plt.plot(range(len(mse_val)), mse_val, label='Validation Set')\n",
        "plt.xlabel('Epoch')\n",
        "plt.ylabel('Mean Squared Error')\n",
        "plt.title('MSE Evolution')\n",
        "plt.legend()\n",
        "plt.show()"
      ],
      "metadata": {
        "colab": {
          "base_uri": "https://localhost:8080/",
          "height": 472
        },
        "id": "tPatZpH2ElKy",
        "outputId": "19b19881-c4a1-4d41-bba8-abc5e08c638b"
      },
      "execution_count": null,
      "outputs": [
        {
          "output_type": "display_data",
          "data": {
            "text/plain": [
              "<Figure size 640x480 with 1 Axes>"
            ],
            "image/png": "[encoded data removed]"
          },
          "metadata": {}
        }
      ]
    },
    {
      "cell_type": "markdown",
      "source": [
        "## **CÁLCULO DA ACURÁCIA DO MODELO**"
      ],
      "metadata": {
        "id": "Ibdqf34FjlcG"
      }
    },
    {
      "cell_type": "code",
      "source": [
        "accuracy = net.calculate_accuracy(X_test, y_test)\n",
        "print(f\"Accuracy on test set: {accuracy}\")"
      ],
      "metadata": {
        "colab": {
          "base_uri": "https://localhost:8080/"
        },
        "id": "xWNFDgb6KmnE",
        "outputId": "a83b2feb-e4c7-49ae-cf42-dbe53c1bb91f"
      },
      "execution_count": null,
      "outputs": [
        {
          "output_type": "stream",
          "name": "stdout",
          "text": [
            "Accuracy on test set: 0.8622754491017964\n"
          ]
        }
      ]
    }
  ]
}